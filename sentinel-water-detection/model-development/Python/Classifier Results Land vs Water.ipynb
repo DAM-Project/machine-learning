{
 "cells": [
  {
   "cell_type": "markdown",
   "id": "076b9aef",
   "metadata": {},
   "source": [
    "### Import data and metrics "
   ]
  },
  {
   "cell_type": "code",
   "execution_count": 1,
   "id": "dbc21e90",
   "metadata": {
    "collapsed": true
   },
   "outputs": [
    {
     "data": {
      "text/html": [
       "<div>\n",
       "<style scoped>\n",
       "    .dataframe tbody tr th:only-of-type {\n",
       "        vertical-align: middle;\n",
       "    }\n",
       "\n",
       "    .dataframe tbody tr th {\n",
       "        vertical-align: top;\n",
       "    }\n",
       "\n",
       "    .dataframe thead th {\n",
       "        text-align: right;\n",
       "    }\n",
       "</style>\n",
       "<table border=\"1\" class=\"dataframe\">\n",
       "  <thead>\n",
       "    <tr style=\"text-align: right;\">\n",
       "      <th></th>\n",
       "      <th>system:index</th>\n",
       "      <th>AreaM2</th>\n",
       "      <th>B11</th>\n",
       "      <th>B12</th>\n",
       "      <th>B2</th>\n",
       "      <th>B3</th>\n",
       "      <th>B4</th>\n",
       "      <th>B8</th>\n",
       "      <th>class</th>\n",
       "      <th>FEATURETYP</th>\n",
       "      <th>.geo</th>\n",
       "    </tr>\n",
       "  </thead>\n",
       "  <tbody>\n",
       "    <tr>\n",
       "      <th>0</th>\n",
       "      <td>00000000000000000000_0</td>\n",
       "      <td>NaN</td>\n",
       "      <td>4115.5</td>\n",
       "      <td>2839.0</td>\n",
       "      <td>922.0</td>\n",
       "      <td>1356.0</td>\n",
       "      <td>1982.0</td>\n",
       "      <td>3163.0</td>\n",
       "      <td>0</td>\n",
       "      <td>Land</td>\n",
       "      <td>{\"geodesic\":false,\"type\":\"Point\",\"coordinates\"...</td>\n",
       "    </tr>\n",
       "    <tr>\n",
       "      <th>1</th>\n",
       "      <td>00000000000000000001_0</td>\n",
       "      <td>NaN</td>\n",
       "      <td>3298.0</td>\n",
       "      <td>2508.5</td>\n",
       "      <td>647.0</td>\n",
       "      <td>977.0</td>\n",
       "      <td>1562.0</td>\n",
       "      <td>2370.0</td>\n",
       "      <td>0</td>\n",
       "      <td>Land</td>\n",
       "      <td>{\"geodesic\":false,\"type\":\"Point\",\"coordinates\"...</td>\n",
       "    </tr>\n",
       "    <tr>\n",
       "      <th>2</th>\n",
       "      <td>00000000000000000002_0</td>\n",
       "      <td>NaN</td>\n",
       "      <td>1592.0</td>\n",
       "      <td>975.0</td>\n",
       "      <td>199.5</td>\n",
       "      <td>379.5</td>\n",
       "      <td>355.5</td>\n",
       "      <td>2510.0</td>\n",
       "      <td>0</td>\n",
       "      <td>Land</td>\n",
       "      <td>{\"geodesic\":false,\"type\":\"Point\",\"coordinates\"...</td>\n",
       "    </tr>\n",
       "    <tr>\n",
       "      <th>3</th>\n",
       "      <td>00000000000000000003_0</td>\n",
       "      <td>NaN</td>\n",
       "      <td>2466.0</td>\n",
       "      <td>1534.0</td>\n",
       "      <td>521.0</td>\n",
       "      <td>780.0</td>\n",
       "      <td>1006.0</td>\n",
       "      <td>2416.0</td>\n",
       "      <td>0</td>\n",
       "      <td>Land</td>\n",
       "      <td>{\"geodesic\":false,\"type\":\"Point\",\"coordinates\"...</td>\n",
       "    </tr>\n",
       "    <tr>\n",
       "      <th>4</th>\n",
       "      <td>00000000000000000004_0</td>\n",
       "      <td>NaN</td>\n",
       "      <td>1976.0</td>\n",
       "      <td>1143.0</td>\n",
       "      <td>438.5</td>\n",
       "      <td>844.5</td>\n",
       "      <td>689.0</td>\n",
       "      <td>3932.0</td>\n",
       "      <td>0</td>\n",
       "      <td>Land</td>\n",
       "      <td>{\"geodesic\":false,\"type\":\"Point\",\"coordinates\"...</td>\n",
       "    </tr>\n",
       "    <tr>\n",
       "      <th>...</th>\n",
       "      <td>...</td>\n",
       "      <td>...</td>\n",
       "      <td>...</td>\n",
       "      <td>...</td>\n",
       "      <td>...</td>\n",
       "      <td>...</td>\n",
       "      <td>...</td>\n",
       "      <td>...</td>\n",
       "      <td>...</td>\n",
       "      <td>...</td>\n",
       "      <td>...</td>\n",
       "    </tr>\n",
       "    <tr>\n",
       "      <th>8989</th>\n",
       "      <td>00000000000000000afd_0</td>\n",
       "      <td>2854.577436</td>\n",
       "      <td>4798.0</td>\n",
       "      <td>3783.5</td>\n",
       "      <td>1483.0</td>\n",
       "      <td>1922.0</td>\n",
       "      <td>2524.0</td>\n",
       "      <td>3396.0</td>\n",
       "      <td>1</td>\n",
       "      <td>Farm Dam Area</td>\n",
       "      <td>{\"geodesic\":false,\"type\":\"Point\",\"coordinates\"...</td>\n",
       "    </tr>\n",
       "    <tr>\n",
       "      <th>8990</th>\n",
       "      <td>00000000000000001022_0</td>\n",
       "      <td>268.200000</td>\n",
       "      <td>2252.0</td>\n",
       "      <td>1473.0</td>\n",
       "      <td>490.0</td>\n",
       "      <td>785.0</td>\n",
       "      <td>771.0</td>\n",
       "      <td>2454.0</td>\n",
       "      <td>1</td>\n",
       "      <td>Farm Dam Area</td>\n",
       "      <td>{\"geodesic\":false,\"type\":\"Point\",\"coordinates\"...</td>\n",
       "    </tr>\n",
       "    <tr>\n",
       "      <th>8991</th>\n",
       "      <td>000000000000000011ef_0</td>\n",
       "      <td>600.768860</td>\n",
       "      <td>967.0</td>\n",
       "      <td>465.0</td>\n",
       "      <td>151.0</td>\n",
       "      <td>334.0</td>\n",
       "      <td>247.0</td>\n",
       "      <td>1210.0</td>\n",
       "      <td>1</td>\n",
       "      <td>Farm Dam Area</td>\n",
       "      <td>{\"geodesic\":false,\"type\":\"Point\",\"coordinates\"...</td>\n",
       "    </tr>\n",
       "    <tr>\n",
       "      <th>8992</th>\n",
       "      <td>0000000000000000079d_0</td>\n",
       "      <td>105.212404</td>\n",
       "      <td>2991.0</td>\n",
       "      <td>1934.5</td>\n",
       "      <td>386.5</td>\n",
       "      <td>597.0</td>\n",
       "      <td>597.5</td>\n",
       "      <td>2155.0</td>\n",
       "      <td>1</td>\n",
       "      <td>Farm Dam Area</td>\n",
       "      <td>{\"geodesic\":false,\"type\":\"Point\",\"coordinates\"...</td>\n",
       "    </tr>\n",
       "    <tr>\n",
       "      <th>8993</th>\n",
       "      <td>000000000000000001af_0</td>\n",
       "      <td>318.738944</td>\n",
       "      <td>2157.5</td>\n",
       "      <td>1518.0</td>\n",
       "      <td>1083.0</td>\n",
       "      <td>1519.0</td>\n",
       "      <td>1374.0</td>\n",
       "      <td>1045.5</td>\n",
       "      <td>1</td>\n",
       "      <td>Farm Dam Area</td>\n",
       "      <td>{\"geodesic\":false,\"type\":\"Point\",\"coordinates\"...</td>\n",
       "    </tr>\n",
       "  </tbody>\n",
       "</table>\n",
       "<p>8994 rows × 11 columns</p>\n",
       "</div>"
      ],
      "text/plain": [
       "                system:index       AreaM2     B11     B12      B2      B3  \\\n",
       "0     00000000000000000000_0          NaN  4115.5  2839.0   922.0  1356.0   \n",
       "1     00000000000000000001_0          NaN  3298.0  2508.5   647.0   977.0   \n",
       "2     00000000000000000002_0          NaN  1592.0   975.0   199.5   379.5   \n",
       "3     00000000000000000003_0          NaN  2466.0  1534.0   521.0   780.0   \n",
       "4     00000000000000000004_0          NaN  1976.0  1143.0   438.5   844.5   \n",
       "...                      ...          ...     ...     ...     ...     ...   \n",
       "8989  00000000000000000afd_0  2854.577436  4798.0  3783.5  1483.0  1922.0   \n",
       "8990  00000000000000001022_0   268.200000  2252.0  1473.0   490.0   785.0   \n",
       "8991  000000000000000011ef_0   600.768860   967.0   465.0   151.0   334.0   \n",
       "8992  0000000000000000079d_0   105.212404  2991.0  1934.5   386.5   597.0   \n",
       "8993  000000000000000001af_0   318.738944  2157.5  1518.0  1083.0  1519.0   \n",
       "\n",
       "          B4      B8  class     FEATURETYP  \\\n",
       "0     1982.0  3163.0      0           Land   \n",
       "1     1562.0  2370.0      0           Land   \n",
       "2      355.5  2510.0      0           Land   \n",
       "3     1006.0  2416.0      0           Land   \n",
       "4      689.0  3932.0      0           Land   \n",
       "...      ...     ...    ...            ...   \n",
       "8989  2524.0  3396.0      1  Farm Dam Area   \n",
       "8990   771.0  2454.0      1  Farm Dam Area   \n",
       "8991   247.0  1210.0      1  Farm Dam Area   \n",
       "8992   597.5  2155.0      1  Farm Dam Area   \n",
       "8993  1374.0  1045.5      1  Farm Dam Area   \n",
       "\n",
       "                                                   .geo  \n",
       "0     {\"geodesic\":false,\"type\":\"Point\",\"coordinates\"...  \n",
       "1     {\"geodesic\":false,\"type\":\"Point\",\"coordinates\"...  \n",
       "2     {\"geodesic\":false,\"type\":\"Point\",\"coordinates\"...  \n",
       "3     {\"geodesic\":false,\"type\":\"Point\",\"coordinates\"...  \n",
       "4     {\"geodesic\":false,\"type\":\"Point\",\"coordinates\"...  \n",
       "...                                                 ...  \n",
       "8989  {\"geodesic\":false,\"type\":\"Point\",\"coordinates\"...  \n",
       "8990  {\"geodesic\":false,\"type\":\"Point\",\"coordinates\"...  \n",
       "8991  {\"geodesic\":false,\"type\":\"Point\",\"coordinates\"...  \n",
       "8992  {\"geodesic\":false,\"type\":\"Point\",\"coordinates\"...  \n",
       "8993  {\"geodesic\":false,\"type\":\"Point\",\"coordinates\"...  \n",
       "\n",
       "[8994 rows x 11 columns]"
      ]
     },
     "metadata": {},
     "output_type": "display_data"
    }
   ],
   "source": [
    "import numpy as np\n",
    "import pandas as pd\n",
    "\n",
    "df = pd.read_csv (r'C:\\Repository\\machine-learning\\sentinel-water-detection\\data-preparation\\data\\Final_data_9k.csv')\n",
    "\n",
    "display(df)"
   ]
  },
  {
   "cell_type": "code",
   "execution_count": 2,
   "id": "4f049a39",
   "metadata": {},
   "outputs": [],
   "source": [
    "from sklearn.metrics import classification_report, confusion_matrix \n",
    "from sklearn.metrics import plot_confusion_matrix\n",
    "from sklearn import metrics\n",
    "from sklearn.metrics import roc_curve\n",
    "from sklearn.metrics import roc_auc_score\n",
    "import time\n",
    "from sklearn.metrics import accuracy_score\n",
    "from pprint import pprint\n",
    "import math\n",
    "from sklearn.metrics import precision_recall_fscore_support\n",
    "from sklearn.model_selection import GridSearchCV\n",
    "from sklearn.model_selection import RepeatedStratifiedKFold\n",
    "from sklearn.datasets import make_classification\n",
    "import matplotlib.pyplot as plt\n",
    "from sklearn.ensemble import GradientBoostingClassifier\n",
    "from sklearn.tree import DecisionTreeClassifier\n",
    "from sklearn.ensemble import RandomForestClassifier\n",
    "from sklearn.inspection import permutation_importance\n",
    "from sklearn.naive_bayes import GaussianNB \n",
    "from sklearn.svm import SVC"
   ]
  },
  {
   "cell_type": "markdown",
   "id": "b25489c1",
   "metadata": {},
   "source": [
    "### Define features and response variables"
   ]
  },
  {
   "cell_type": "code",
   "execution_count": 3,
   "id": "7d08c368",
   "metadata": {
    "collapsed": true
   },
   "outputs": [
    {
     "data": {
      "text/html": [
       "<div>\n",
       "<style scoped>\n",
       "    .dataframe tbody tr th:only-of-type {\n",
       "        vertical-align: middle;\n",
       "    }\n",
       "\n",
       "    .dataframe tbody tr th {\n",
       "        vertical-align: top;\n",
       "    }\n",
       "\n",
       "    .dataframe thead th {\n",
       "        text-align: right;\n",
       "    }\n",
       "</style>\n",
       "<table border=\"1\" class=\"dataframe\">\n",
       "  <thead>\n",
       "    <tr style=\"text-align: right;\">\n",
       "      <th></th>\n",
       "      <th>B11</th>\n",
       "      <th>B12</th>\n",
       "      <th>B2</th>\n",
       "      <th>B3</th>\n",
       "      <th>B4</th>\n",
       "      <th>B8</th>\n",
       "    </tr>\n",
       "  </thead>\n",
       "  <tbody>\n",
       "    <tr>\n",
       "      <th>0</th>\n",
       "      <td>4115.5</td>\n",
       "      <td>2839.0</td>\n",
       "      <td>922.0</td>\n",
       "      <td>1356.0</td>\n",
       "      <td>1982.0</td>\n",
       "      <td>3163.0</td>\n",
       "    </tr>\n",
       "    <tr>\n",
       "      <th>1</th>\n",
       "      <td>3298.0</td>\n",
       "      <td>2508.5</td>\n",
       "      <td>647.0</td>\n",
       "      <td>977.0</td>\n",
       "      <td>1562.0</td>\n",
       "      <td>2370.0</td>\n",
       "    </tr>\n",
       "    <tr>\n",
       "      <th>2</th>\n",
       "      <td>1592.0</td>\n",
       "      <td>975.0</td>\n",
       "      <td>199.5</td>\n",
       "      <td>379.5</td>\n",
       "      <td>355.5</td>\n",
       "      <td>2510.0</td>\n",
       "    </tr>\n",
       "    <tr>\n",
       "      <th>3</th>\n",
       "      <td>2466.0</td>\n",
       "      <td>1534.0</td>\n",
       "      <td>521.0</td>\n",
       "      <td>780.0</td>\n",
       "      <td>1006.0</td>\n",
       "      <td>2416.0</td>\n",
       "    </tr>\n",
       "    <tr>\n",
       "      <th>4</th>\n",
       "      <td>1976.0</td>\n",
       "      <td>1143.0</td>\n",
       "      <td>438.5</td>\n",
       "      <td>844.5</td>\n",
       "      <td>689.0</td>\n",
       "      <td>3932.0</td>\n",
       "    </tr>\n",
       "    <tr>\n",
       "      <th>...</th>\n",
       "      <td>...</td>\n",
       "      <td>...</td>\n",
       "      <td>...</td>\n",
       "      <td>...</td>\n",
       "      <td>...</td>\n",
       "      <td>...</td>\n",
       "    </tr>\n",
       "    <tr>\n",
       "      <th>8989</th>\n",
       "      <td>4798.0</td>\n",
       "      <td>3783.5</td>\n",
       "      <td>1483.0</td>\n",
       "      <td>1922.0</td>\n",
       "      <td>2524.0</td>\n",
       "      <td>3396.0</td>\n",
       "    </tr>\n",
       "    <tr>\n",
       "      <th>8990</th>\n",
       "      <td>2252.0</td>\n",
       "      <td>1473.0</td>\n",
       "      <td>490.0</td>\n",
       "      <td>785.0</td>\n",
       "      <td>771.0</td>\n",
       "      <td>2454.0</td>\n",
       "    </tr>\n",
       "    <tr>\n",
       "      <th>8991</th>\n",
       "      <td>967.0</td>\n",
       "      <td>465.0</td>\n",
       "      <td>151.0</td>\n",
       "      <td>334.0</td>\n",
       "      <td>247.0</td>\n",
       "      <td>1210.0</td>\n",
       "    </tr>\n",
       "    <tr>\n",
       "      <th>8992</th>\n",
       "      <td>2991.0</td>\n",
       "      <td>1934.5</td>\n",
       "      <td>386.5</td>\n",
       "      <td>597.0</td>\n",
       "      <td>597.5</td>\n",
       "      <td>2155.0</td>\n",
       "    </tr>\n",
       "    <tr>\n",
       "      <th>8993</th>\n",
       "      <td>2157.5</td>\n",
       "      <td>1518.0</td>\n",
       "      <td>1083.0</td>\n",
       "      <td>1519.0</td>\n",
       "      <td>1374.0</td>\n",
       "      <td>1045.5</td>\n",
       "    </tr>\n",
       "  </tbody>\n",
       "</table>\n",
       "<p>8994 rows × 6 columns</p>\n",
       "</div>"
      ],
      "text/plain": [
       "         B11     B12      B2      B3      B4      B8\n",
       "0     4115.5  2839.0   922.0  1356.0  1982.0  3163.0\n",
       "1     3298.0  2508.5   647.0   977.0  1562.0  2370.0\n",
       "2     1592.0   975.0   199.5   379.5   355.5  2510.0\n",
       "3     2466.0  1534.0   521.0   780.0  1006.0  2416.0\n",
       "4     1976.0  1143.0   438.5   844.5   689.0  3932.0\n",
       "...      ...     ...     ...     ...     ...     ...\n",
       "8989  4798.0  3783.5  1483.0  1922.0  2524.0  3396.0\n",
       "8990  2252.0  1473.0   490.0   785.0   771.0  2454.0\n",
       "8991   967.0   465.0   151.0   334.0   247.0  1210.0\n",
       "8992  2991.0  1934.5   386.5   597.0   597.5  2155.0\n",
       "8993  2157.5  1518.0  1083.0  1519.0  1374.0  1045.5\n",
       "\n",
       "[8994 rows x 6 columns]"
      ]
     },
     "metadata": {},
     "output_type": "display_data"
    },
    {
     "data": {
      "text/plain": [
       "0       0\n",
       "1       0\n",
       "2       0\n",
       "3       0\n",
       "4       0\n",
       "       ..\n",
       "8989    1\n",
       "8990    1\n",
       "8991    1\n",
       "8992    1\n",
       "8993    1\n",
       "Name: class, Length: 8994, dtype: int64"
      ]
     },
     "metadata": {},
     "output_type": "display_data"
    }
   ],
   "source": [
    "features = df.drop(['system:index', 'AreaM2', 'FEATURETYP', '.geo', 'class'], axis = 1)\n",
    "response = df['class']\n",
    "display(features)\n",
    "display(response)"
   ]
  },
  {
   "cell_type": "markdown",
   "id": "f640a589",
   "metadata": {},
   "source": [
    "### Feature Importance"
   ]
  },
  {
   "cell_type": "code",
   "execution_count": 4,
   "id": "b988667a",
   "metadata": {
    "collapsed": true
   },
   "outputs": [
    {
     "data": {
      "image/png": "[encoded data removed]",
      "text/plain": [
       "<Figure size 432x288 with 1 Axes>"
      ]
     },
     "metadata": {
      "needs_background": "light"
     },
     "output_type": "display_data"
    }
   ],
   "source": [
    "# permutation feature importance with gaussian NB for classification\n",
    "# defining model\n",
    "gnb = GaussianNB()\n",
    "\n",
    "# fit model\n",
    "X = features\n",
    "y = response\n",
    "\n",
    "gnb.fit(X, y)\n",
    "#Permutation importance\n",
    "results = permutation_importance(gnb, X, y, scoring ='accuracy')\n",
    "\n",
    "#Importance values respective of feature\n",
    "importance = results.importances_mean\n",
    "\n",
    "# Sort feature importance in descending order\n",
    "sorted_features = np.argsort(importance)[::-1] \n",
    "\n",
    "# plot feature importance\n",
    "plt.bar(range(X.shape[1]), importance[sorted_features])\n",
    "plt.title('Feature Importance of permuation feature utilising GaussianNB classification')\n",
    "plt.xticks(range(X.shape[1]), X.columns[sorted_features], rotation = 90)\n",
    "plt.xlabel('Features')\n",
    "plt.ylabel('Importance score')\n",
    "plt.show()"
   ]
  },
  {
   "cell_type": "code",
   "execution_count": 5,
   "id": "e31b756b",
   "metadata": {
    "collapsed": true
   },
   "outputs": [
    {
     "data": {
      "image/png": "[encoded data removed]",
      "text/plain": [
       "<Figure size 432x288 with 1 Axes>"
      ]
     },
     "metadata": {
      "needs_background": "light"
     },
     "output_type": "display_data"
    }
   ],
   "source": [
    "# permutation feature importance with decision tree for classification\n",
    "# defining model\n",
    "dtc = DecisionTreeClassifier()\n",
    "\n",
    "# fit model\n",
    "X = features\n",
    "y = response\n",
    "\n",
    "dtc.fit(X, y)\n",
    "\n",
    "# get importance\n",
    "importance = dtc.feature_importances_\n",
    "\n",
    "\n",
    "# Sort feature importance in descending order\n",
    "sorted_features = np.argsort(importance)[::-1] \n",
    "\n",
    "# plot feature importance\n",
    "plt.bar(range(X.shape[1]), importance[sorted_features])\n",
    "plt.title('Feature Importance utilising decision tree classification')\n",
    "plt.xticks(range(X.shape[1]), X.columns[sorted_features], rotation = 90)\n",
    "plt.xlabel('Features')\n",
    "plt.ylabel('Importance score')\n",
    "plt.show()"
   ]
  },
  {
   "cell_type": "code",
   "execution_count": 6,
   "id": "fde997db",
   "metadata": {
    "collapsed": true
   },
   "outputs": [
    {
     "data": {
      "image/png": "[encoded data removed]",
      "text/plain": [
       "<Figure size 432x288 with 1 Axes>"
      ]
     },
     "metadata": {
      "needs_background": "light"
     },
     "output_type": "display_data"
    }
   ],
   "source": [
    "# permutation feature importance with random forest for classification\n",
    "# defining model\n",
    "rfc = RandomForestClassifier(n_estimators = 400)\n",
    "\n",
    "# fit model\n",
    "X = features\n",
    "y = response\n",
    "\n",
    "rfc.fit(X, y)\n",
    "#Permutation importance\n",
    "results = permutation_importance(rfc, X, y, scoring ='accuracy')\n",
    "\n",
    "#Importance values respective of feature\n",
    "importance = results.importances_mean\n",
    "\n",
    "# Sort feature importance in descending order\n",
    "sorted_features = np.argsort(importance)[::-1] \n",
    "\n",
    "# plot feature importance\n",
    "plt.bar(range(X.shape[1]), importance[sorted_features])\n",
    "plt.title('Feature Importance of permuation feature utilising random forest classification')\n",
    "plt.xticks(range(X.shape[1]), X.columns[sorted_features], rotation = 90)\n",
    "plt.xlabel('Features')\n",
    "plt.ylabel('Importance score')\n",
    "plt.show()"
   ]
  },
  {
   "cell_type": "code",
   "execution_count": 14,
   "id": "7c9fa413",
   "metadata": {
    "collapsed": true
   },
   "outputs": [
    {
     "data": {
      "image/png": "[encoded data removed]",
      "text/plain": [
       "<Figure size 432x288 with 1 Axes>"
      ]
     },
     "metadata": {
      "needs_background": "light"
     },
     "output_type": "display_data"
    }
   ],
   "source": [
    "# permutation feature importance with SVM for classification\n",
    "# defining model\n",
    "svm = SVC(kernel='linear')\n",
    "\n",
    "# fit model\n",
    "X = features\n",
    "y = response\n",
    "\n",
    "svm.fit(X, y)\n",
    "#Permutation importance\n",
    "results = permutation_importance(svm, X, y, scoring ='accuracy')\n",
    "\n",
    "#Importance values respective of feature\n",
    "importance = results.importances_mean\n",
    "\n",
    "# Sort feature importance in descending order\n",
    "sorted_features = np.argsort(importance)[::-1] \n",
    "\n",
    "# plot feature importance\n",
    "plt.bar(range(X.shape[1]), importance[sorted_features])\n",
    "plt.title('Feature Importance of permuation feature utilising SVC classification')\n",
    "plt.xticks(range(X.shape[1]), X.columns[sorted_features], rotation = 90)\n",
    "plt.xlabel('Features')\n",
    "plt.ylabel('Importance score')\n",
    "plt.show()"
   ]
  },
  {
   "cell_type": "code",
   "execution_count": 12,
   "id": "be41fc11",
   "metadata": {
    "collapsed": true
   },
   "outputs": [
    {
     "data": {
      "image/png": "[encoded data removed]",
      "text/plain": [
       "<Figure size 432x288 with 1 Axes>"
      ]
     },
     "metadata": {
      "needs_background": "light"
     },
     "output_type": "display_data"
    }
   ],
   "source": [
    "# permutation feature importance with gradient tree boost for classification\n",
    "# defining model\n",
    "gbc = GradientBoostingClassifier(n_estimators = 400, learning_rate = 0.1)\n",
    "\n",
    "# fit model\n",
    "X = features\n",
    "y = response\n",
    "\n",
    "gbc.fit(X, y)\n",
    "#Permutation importance\n",
    "results = permutation_importance(gbc, X, y, scoring ='accuracy')\n",
    "\n",
    "#Importance values respective of feature\n",
    "importance = results.importances_mean\n",
    "\n",
    "# Sort feature importance in descending order\n",
    "sorted_features = np.argsort(importance)[::-1] \n",
    "\n",
    "# plot feature importance\n",
    "plt.bar(range(X.shape[1]), importance[sorted_features])\n",
    "plt.title('Feature Importance of permuation feature utilising Gradient Boosting classification')\n",
    "plt.xticks(range(X.shape[1]), X.columns[sorted_features], rotation = 90)\n",
    "plt.xlabel('Features')\n",
    "plt.ylabel('Importance score')\n",
    "plt.show()"
   ]
  },
  {
   "cell_type": "markdown",
   "id": "d5bcdd2a",
   "metadata": {},
   "source": [
    "### Train-Test Split"
   ]
  },
  {
   "cell_type": "code",
   "execution_count": 9,
   "id": "297d83d9",
   "metadata": {},
   "outputs": [],
   "source": [
    "from sklearn.model_selection import train_test_split\n",
    "train_x, test_x, train_y, test_y = train_test_split(X, y, test_size=0.3, random_state=0)"
   ]
  },
  {
   "cell_type": "markdown",
   "id": "b6d5513d",
   "metadata": {},
   "source": [
    "### Grid Search for hyperparameter tuning"
   ]
  },
  {
   "cell_type": "code",
   "execution_count": 57,
   "id": "a69c719d",
   "metadata": {
    "collapsed": true
   },
   "outputs": [
    {
     "name": "stdout",
     "output_type": "stream",
     "text": [
      "Best: 0.550546 using {'var_smoothing': 1e-09}\n",
      "0.550546 (0.018085) with: {'var_smoothing': 1e-09}\n",
      "0.550546 (0.018085) with: {'var_smoothing': 1e-08}\n",
      "0.550546 (0.018085) with: {'var_smoothing': 1e-07}\n"
     ]
    }
   ],
   "source": [
    "# Grid searching key hyperparameters for GaussianNB\n",
    "model = GaussianNB()\n",
    "var_smoothing = 1e-09, 1e-08, 1e-07\n",
    "# define grid search\n",
    "grid = dict(var_smoothing=var_smoothing)\n",
    "cv = RepeatedStratifiedKFold(n_splits=10, n_repeats=3, random_state=1)\n",
    "grid_search = GridSearchCV(estimator=model, param_grid=grid, n_jobs=-1, cv=cv, scoring='accuracy',error_score=0)\n",
    "grid_result = grid_search.fit(train_x, train_y)\n",
    "# summarize results\n",
    "print(\"Best: %f using %s\" % (grid_result.best_score_, grid_result.best_params_))\n",
    "means = grid_result.cv_results_['mean_test_score']\n",
    "stds = grid_result.cv_results_['std_test_score']\n",
    "params = grid_result.cv_results_['params']\n",
    "for mean, stdev, param in zip(means, stds, params):\n",
    "    print(\"%f (%f) with: %r\" % (mean, stdev, param))"
   ]
  },
  {
   "cell_type": "code",
   "execution_count": 62,
   "id": "7c83fe3a",
   "metadata": {
    "collapsed": true
   },
   "outputs": [
    {
     "name": "stdout",
     "output_type": "stream",
     "text": [
      "Best: 0.735024 using {'learning_rate': 0.1, 'n_estimators': 400}\n",
      "0.694565 (0.022071) with: {'learning_rate': 0.1, 'n_estimators': 50}\n",
      "0.714369 (0.018797) with: {'learning_rate': 0.1, 'n_estimators': 100}\n",
      "0.728454 (0.019536) with: {'learning_rate': 0.1, 'n_estimators': 200}\n",
      "0.735024 (0.016781) with: {'learning_rate': 0.1, 'n_estimators': 400}\n",
      "0.716489 (0.019255) with: {'learning_rate': 0.2, 'n_estimators': 50}\n",
      "0.725648 (0.019922) with: {'learning_rate': 0.2, 'n_estimators': 100}\n",
      "0.734175 (0.017841) with: {'learning_rate': 0.2, 'n_estimators': 200}\n",
      "0.732799 (0.018213) with: {'learning_rate': 0.2, 'n_estimators': 400}\n",
      "0.722472 (0.020064) with: {'learning_rate': 0.3, 'n_estimators': 50}\n",
      "0.729942 (0.015833) with: {'learning_rate': 0.3, 'n_estimators': 100}\n",
      "0.732695 (0.019944) with: {'learning_rate': 0.3, 'n_estimators': 200}\n",
      "0.729411 (0.020366) with: {'learning_rate': 0.3, 'n_estimators': 400}\n",
      "0.723371 (0.020941) with: {'learning_rate': 0.4, 'n_estimators': 50}\n",
      "0.728774 (0.016080) with: {'learning_rate': 0.4, 'n_estimators': 100}\n",
      "0.729834 (0.018965) with: {'learning_rate': 0.4, 'n_estimators': 200}\n",
      "0.725492 (0.018895) with: {'learning_rate': 0.4, 'n_estimators': 400}\n",
      "0.725331 (0.019400) with: {'learning_rate': 0.5, 'n_estimators': 50}\n",
      "0.727238 (0.021970) with: {'learning_rate': 0.5, 'n_estimators': 100}\n",
      "0.728934 (0.019659) with: {'learning_rate': 0.5, 'n_estimators': 200}\n",
      "0.722157 (0.018640) with: {'learning_rate': 0.5, 'n_estimators': 400}\n"
     ]
    }
   ],
   "source": [
    "# Grid searching key hyperparameters for gradient tree boost\n",
    "model = GradientBoostingClassifier()\n",
    "learning_rate = 0.1, 0.2, 0.3, 0.4, 0.5\n",
    "n_estimators = 50, 100, 200, 400\n",
    "# define grid search\n",
    "grid = dict(learning_rate=learning_rate, n_estimators=n_estimators)\n",
    "cv = RepeatedStratifiedKFold(n_splits=10, n_repeats=3, random_state=1)\n",
    "grid_search = GridSearchCV(estimator=model, param_grid=grid, n_jobs=-1, cv=cv, scoring='accuracy',error_score=0)\n",
    "grid_result = grid_search.fit(train_x, train_y)\n",
    "# summarize results\n",
    "print(\"Best: %f using %s\" % (grid_result.best_score_, grid_result.best_params_))\n",
    "means = grid_result.cv_results_['mean_test_score']\n",
    "stds = grid_result.cv_results_['std_test_score']\n",
    "params = grid_result.cv_results_['params']\n",
    "for mean, stdev, param in zip(means, stds, params):\n",
    "    print(\"%f (%f) with: %r\" % (mean, stdev, param))"
   ]
  },
  {
   "cell_type": "code",
   "execution_count": 64,
   "id": "94fb9330",
   "metadata": {
    "collapsed": true
   },
   "outputs": [
    {
     "name": "stdout",
     "output_type": "stream",
     "text": [
      "Best: 0.731052 using {'n_estimators': 400}\n",
      "0.724008 (0.018234) with: {'n_estimators': 50}\n",
      "0.729250 (0.017127) with: {'n_estimators': 100}\n",
      "0.731052 (0.017930) with: {'n_estimators': 200}\n",
      "0.731052 (0.017135) with: {'n_estimators': 400}\n"
     ]
    }
   ],
   "source": [
    "# Grid searching key hyperparameters for random forest\n",
    "model = RandomForestClassifier()\n",
    "n_estimators = 50, 100, 200, 400\n",
    "# define grid search\n",
    "grid = dict(n_estimators=n_estimators)\n",
    "cv = RepeatedStratifiedKFold(n_splits=10, n_repeats=3, random_state=1)\n",
    "grid_search = GridSearchCV(estimator=model, param_grid=grid, n_jobs=-1, cv=cv, scoring='accuracy',error_score=0)\n",
    "grid_result = grid_search.fit(train_x, train_y)\n",
    "# summarize results\n",
    "print(\"Best: %f using %s\" % (grid_result.best_score_, grid_result.best_params_))\n",
    "means = grid_result.cv_results_['mean_test_score']\n",
    "stds = grid_result.cv_results_['std_test_score']\n",
    "params = grid_result.cv_results_['params']\n",
    "for mean, stdev, param in zip(means, stds, params):\n",
    "    print(\"%f (%f) with: %r\" % (mean, stdev, param))"
   ]
  },
  {
   "cell_type": "code",
   "execution_count": 13,
   "id": "9a495411",
   "metadata": {
    "collapsed": true
   },
   "outputs": [
    {
     "name": "stdout",
     "output_type": "stream",
     "text": [
      "Best: 0.725969 using {'kernel': 'linear'}\n",
      "0.725969 (0.018257) with: {'kernel': 'linear'}\n",
      "0.688161 (0.020641) with: {'kernel': 'poly'}\n",
      "0.722210 (0.016743) with: {'kernel': 'rbf'}\n",
      "0.550330 (0.017605) with: {'kernel': 'sigmoid'}\n"
     ]
    }
   ],
   "source": [
    "# Grid searching key hyperparameters for SVM\n",
    "model = SVC()\n",
    "kernel = 'linear', 'poly', 'rbf', 'sigmoid'\n",
    "# define grid search\n",
    "grid = dict(kernel=kernel)\n",
    "cv = RepeatedStratifiedKFold(n_splits=10, n_repeats=3, random_state=1)\n",
    "grid_search = GridSearchCV(estimator=model, param_grid=grid, n_jobs=-1, cv=cv, scoring='accuracy',error_score=0)\n",
    "grid_result = grid_search.fit(train_x, train_y)\n",
    "# summarize results\n",
    "print(\"Best: %f using %s\" % (grid_result.best_score_, grid_result.best_params_))\n",
    "means = grid_result.cv_results_['mean_test_score']\n",
    "stds = grid_result.cv_results_['std_test_score']\n",
    "params = grid_result.cv_results_['params']\n",
    "for mean, stdev, param in zip(means, stds, params):\n",
    "    print(\"%f (%f) with: %r\" % (mean, stdev, param))"
   ]
  },
  {
   "cell_type": "markdown",
   "id": "9c78687f",
   "metadata": {},
   "source": [
    "### Model results and matrix"
   ]
  },
  {
   "cell_type": "code",
   "execution_count": 39,
   "id": "7d59aa0c",
   "metadata": {
    "collapsed": true
   },
   "outputs": [
    {
     "name": "stdout",
     "output_type": "stream",
     "text": [
      "Accuracy: 0.5661356057799185\n",
      "Precision, Recall, Fscore: (0.5648371716471354, 0.5661356057799185, 0.5567527832951507, None)\n",
      "[[995 420]\n",
      " [751 533]]\n",
      "              precision    recall  f1-score   support\n",
      "\n",
      "           0       0.57      0.70      0.63      1415\n",
      "           1       0.56      0.42      0.48      1284\n",
      "\n",
      "    accuracy                           0.57      2699\n",
      "   macro avg       0.56      0.56      0.55      2699\n",
      "weighted avg       0.56      0.57      0.56      2699\n",
      "\n",
      "train time: 0.02729034423828125\n",
      "test time: 0.012771129608154297\n",
      "Parameters currently in use:\n",
      "\n",
      "{'priors': None, 'var_smoothing': 1e-09}\n"
     ]
    },
    {
     "data": {
      "image/png": "[encoded data removed]",
      "text/plain": [
       "<Figure size 432x288 with 2 Axes>"
      ]
     },
     "metadata": {
      "needs_background": "light"
     },
     "output_type": "display_data"
    }
   ],
   "source": [
    "# NAIVE BAYES (Gaussian)\n",
    "clf = GaussianNB()\n",
    "\n",
    "start_train=time.time()\n",
    "clf.fit(train_x, train_y)\n",
    "stop_train=time.time()\n",
    "\n",
    "start_test=time.time()\n",
    "pred_y = clf.predict(test_x)\n",
    "stop_test=time.time()\n",
    "\n",
    "print(\"Accuracy:\",accuracy_score(test_y, pred_y))\n",
    "print(\"Precision, Recall, Fscore:\",precision_recall_fscore_support(test_y, pred_y, average='weighted'))\n",
    "print(confusion_matrix(test_y, pred_y))\n",
    "print(classification_report(test_y,pred_y))\n",
    "print(\"train time:\", stop_train-start_train)\n",
    "print(\"test time:\", stop_test-start_test)\n",
    "\n",
    "print('Parameters currently in use:\\n')\n",
    "pprint(clf.get_params())\n",
    "\n",
    "plot_confusion_matrix(clf, test_x,test_y, values_format='d')\n",
    "plt.show()"
   ]
  },
  {
   "cell_type": "code",
   "execution_count": 40,
   "id": "34ff59f2",
   "metadata": {
    "collapsed": true
   },
   "outputs": [
    {
     "name": "stdout",
     "output_type": "stream",
     "text": [
      "Accuracy: 0.6798814375694702\n",
      "Precision, Recall, Fscore: (0.6797570891634702, 0.6798814375694702, 0.6798058164297789, None)\n",
      "[[989 426]\n",
      " [438 846]]\n",
      "              precision    recall  f1-score   support\n",
      "\n",
      "           0       0.69      0.70      0.70      1415\n",
      "           1       0.67      0.66      0.66      1284\n",
      "\n",
      "    accuracy                           0.68      2699\n",
      "   macro avg       0.68      0.68      0.68      2699\n",
      "weighted avg       0.68      0.68      0.68      2699\n",
      "\n",
      "train time: 0.20259618759155273\n",
      "test time: 0.00986480712890625\n",
      "Parameters currently in use:\n",
      "\n",
      "{'ccp_alpha': 0.0,\n",
      " 'class_weight': None,\n",
      " 'criterion': 'gini',\n",
      " 'max_depth': None,\n",
      " 'max_features': None,\n",
      " 'max_leaf_nodes': None,\n",
      " 'min_impurity_decrease': 0.0,\n",
      " 'min_impurity_split': None,\n",
      " 'min_samples_leaf': 1,\n",
      " 'min_samples_split': 2,\n",
      " 'min_weight_fraction_leaf': 0.0,\n",
      " 'random_state': None,\n",
      " 'splitter': 'best'}\n"
     ]
    },
    {
     "data": {
      "image/png": "[encoded data removed]",
      "text/plain": [
       "<Figure size 432x288 with 2 Axes>"
      ]
     },
     "metadata": {
      "needs_background": "light"
     },
     "output_type": "display_data"
    }
   ],
   "source": [
    "# DECISION TREE\n",
    "clf = DecisionTreeClassifier()\n",
    "\n",
    "start_train=time.time()\n",
    "clf.fit(train_x, train_y)\n",
    "stop_train=time.time()\n",
    "\n",
    "start_test=time.time()\n",
    "pred_y = clf.predict(test_x)\n",
    "stop_test=time.time()\n",
    "\n",
    "print(\"Accuracy:\",accuracy_score(test_y, pred_y))\n",
    "print(\"Precision, Recall, Fscore:\",precision_recall_fscore_support(test_y, pred_y, average='weighted'))\n",
    "print(confusion_matrix(test_y, pred_y))\n",
    "print(classification_report(test_y,pred_y))\n",
    "print(\"train time:\", stop_train-start_train)\n",
    "print(\"test time:\", stop_test-start_test)\n",
    "\n",
    "print('Parameters currently in use:\\n')\n",
    "pprint(clf.get_params())\n",
    "\n",
    "plot_confusion_matrix(clf, test_x,test_y, values_format='d')\n",
    "plt.show()"
   ]
  },
  {
   "cell_type": "code",
   "execution_count": 10,
   "id": "74cfd4c4",
   "metadata": {
    "collapsed": true
   },
   "outputs": [
    {
     "name": "stdout",
     "output_type": "stream",
     "text": [
      "Accuracy: 0.7547239718414227\n",
      "Precision, Recall, Fscore: (0.7556978995607272, 0.7547239718414227, 0.7537009694640914, None)\n",
      "[[1144  271]\n",
      " [ 391  893]]\n",
      "              precision    recall  f1-score   support\n",
      "\n",
      "           0       0.75      0.81      0.78      1415\n",
      "           1       0.77      0.70      0.73      1284\n",
      "\n",
      "    accuracy                           0.75      2699\n",
      "   macro avg       0.76      0.75      0.75      2699\n",
      "weighted avg       0.76      0.75      0.75      2699\n",
      "\n",
      "train time: 10.365017414093018\n",
      "test time: 0.03400826454162598\n",
      "Parameters currently in use:\n",
      "\n",
      "{'ccp_alpha': 0.0,\n",
      " 'criterion': 'friedman_mse',\n",
      " 'init': None,\n",
      " 'learning_rate': 0.1,\n",
      " 'loss': 'deviance',\n",
      " 'max_depth': 3,\n",
      " 'max_features': None,\n",
      " 'max_leaf_nodes': None,\n",
      " 'min_impurity_decrease': 0.0,\n",
      " 'min_impurity_split': None,\n",
      " 'min_samples_leaf': 1,\n",
      " 'min_samples_split': 2,\n",
      " 'min_weight_fraction_leaf': 0.0,\n",
      " 'n_estimators': 400,\n",
      " 'n_iter_no_change': None,\n",
      " 'random_state': None,\n",
      " 'subsample': 1.0,\n",
      " 'tol': 0.0001,\n",
      " 'validation_fraction': 0.1,\n",
      " 'verbose': 0,\n",
      " 'warm_start': False}\n"
     ]
    },
    {
     "data": {
      "image/png": "[encoded data removed]",
      "text/plain": [
       "<Figure size 432x288 with 2 Axes>"
      ]
     },
     "metadata": {
      "needs_background": "light"
     },
     "output_type": "display_data"
    }
   ],
   "source": [
    "# GRADIENT TREE BOOST \n",
    "clf = GradientBoostingClassifier(learning_rate=0.1, n_estimators =400)\n",
    "\n",
    "start_train=time.time()\n",
    "clf.fit(train_x, train_y)\n",
    "stop_train=time.time()\n",
    "\n",
    "start_test=time.time()\n",
    "pred_y = clf.predict(test_x)\n",
    "stop_test=time.time()\n",
    "\n",
    "print(\"Accuracy:\",accuracy_score(test_y, pred_y))\n",
    "print(\"Precision, Recall, Fscore:\",precision_recall_fscore_support(test_y, pred_y, average='weighted'))\n",
    "print(confusion_matrix(test_y, pred_y))\n",
    "print(classification_report(test_y,pred_y))\n",
    "print(\"train time:\", stop_train-start_train)\n",
    "print(\"test time:\", stop_test-start_test)\n",
    "\n",
    "print('Parameters currently in use:\\n')\n",
    "pprint(clf.get_params())\n",
    "\n",
    "plot_confusion_matrix(clf, test_x,test_y, values_format='d')\n",
    "plt.show()"
   ]
  },
  {
   "cell_type": "code",
   "execution_count": 11,
   "id": "4d0cc770",
   "metadata": {
    "collapsed": true
   },
   "outputs": [
    {
     "name": "stdout",
     "output_type": "stream",
     "text": [
      "Accuracy: 0.7513894034827714\n",
      "Precision, Recall, Fscore: (0.7522970868644133, 0.7513894034827714, 0.7503653018748894, None)\n",
      "[[1139  276]\n",
      " [ 395  889]]\n",
      "              precision    recall  f1-score   support\n",
      "\n",
      "           0       0.74      0.80      0.77      1415\n",
      "           1       0.76      0.69      0.73      1284\n",
      "\n",
      "    accuracy                           0.75      2699\n",
      "   macro avg       0.75      0.75      0.75      2699\n",
      "weighted avg       0.75      0.75      0.75      2699\n",
      "\n",
      "train time: 14.979050636291504\n",
      "test time: 0.5939269065856934\n",
      "Parameters currently in use:\n",
      "\n",
      "{'bootstrap': True,\n",
      " 'ccp_alpha': 0.0,\n",
      " 'class_weight': None,\n",
      " 'criterion': 'gini',\n",
      " 'max_depth': None,\n",
      " 'max_features': 'auto',\n",
      " 'max_leaf_nodes': None,\n",
      " 'max_samples': None,\n",
      " 'min_impurity_decrease': 0.0,\n",
      " 'min_impurity_split': None,\n",
      " 'min_samples_leaf': 1,\n",
      " 'min_samples_split': 2,\n",
      " 'min_weight_fraction_leaf': 0.0,\n",
      " 'n_estimators': 400,\n",
      " 'n_jobs': None,\n",
      " 'oob_score': False,\n",
      " 'random_state': None,\n",
      " 'verbose': 0,\n",
      " 'warm_start': False}\n"
     ]
    },
    {
     "data": {
      "image/png": "[encoded data removed]",
      "text/plain": [
       "<Figure size 432x288 with 2 Axes>"
      ]
     },
     "metadata": {
      "needs_background": "light"
     },
     "output_type": "display_data"
    }
   ],
   "source": [
    "# Random Forest\n",
    "clf = RandomForestClassifier(n_estimators=400)\n",
    "\n",
    "start_train=time.time()\n",
    "clf.fit(train_x, train_y)\n",
    "stop_train=time.time()\n",
    "\n",
    "start_test=time.time()\n",
    "pred_y = clf.predict(test_x)\n",
    "stop_test=time.time()\n",
    "\n",
    "print(\"Accuracy:\",accuracy_score(test_y, pred_y))\n",
    "print(\"Precision, Recall, Fscore:\",precision_recall_fscore_support(test_y, pred_y, average='weighted'))\n",
    "print(confusion_matrix(test_y, pred_y))\n",
    "print(classification_report(test_y,pred_y))\n",
    "print(\"train time:\", stop_train-start_train)\n",
    "print(\"test time:\", stop_test-start_test)\n",
    "\n",
    "print('Parameters currently in use:\\n')\n",
    "pprint(clf.get_params())\n",
    "\n",
    "plot_confusion_matrix(clf, test_x,test_y, values_format='d')\n",
    "plt.show()"
   ]
  },
  {
   "cell_type": "code",
   "execution_count": 15,
   "id": "87444a01",
   "metadata": {
    "collapsed": true
   },
   "outputs": [
    {
     "name": "stdout",
     "output_type": "stream",
     "text": [
      "Accuracy: 0.7469433123379029\n",
      "Precision, Recall, Fscore: (0.7555178128794771, 0.7469433123379029, 0.7428757017942289, None)\n",
      "[[1213  202]\n",
      " [ 481  803]]\n",
      "              precision    recall  f1-score   support\n",
      "\n",
      "           0       0.72      0.86      0.78      1415\n",
      "           1       0.80      0.63      0.70      1284\n",
      "\n",
      "    accuracy                           0.75      2699\n",
      "   macro avg       0.76      0.74      0.74      2699\n",
      "weighted avg       0.76      0.75      0.74      2699\n",
      "\n",
      "train time: 653.3610813617706\n",
      "test time: 0.18504619598388672\n",
      "Parameters currently in use:\n",
      "\n",
      "{'C': 1.0,\n",
      " 'break_ties': False,\n",
      " 'cache_size': 200,\n",
      " 'class_weight': None,\n",
      " 'coef0': 0.0,\n",
      " 'decision_function_shape': 'ovr',\n",
      " 'degree': 3,\n",
      " 'gamma': 'scale',\n",
      " 'kernel': 'linear',\n",
      " 'max_iter': -1,\n",
      " 'probability': False,\n",
      " 'random_state': None,\n",
      " 'shrinking': True,\n",
      " 'tol': 0.001,\n",
      " 'verbose': False}\n"
     ]
    },
    {
     "data": {
      "image/png": "[encoded data removed]",
      "text/plain": [
       "<Figure size 432x288 with 2 Axes>"
      ]
     },
     "metadata": {
      "needs_background": "light"
     },
     "output_type": "display_data"
    }
   ],
   "source": [
    "# SVM\n",
    "clf = SVC(kernel='linear')\n",
    "\n",
    "start_train=time.time()\n",
    "clf.fit(train_x, train_y)\n",
    "stop_train=time.time()\n",
    "\n",
    "start_test=time.time()\n",
    "pred_y = clf.predict(test_x)\n",
    "stop_test=time.time()\n",
    "\n",
    "print(\"Accuracy:\",accuracy_score(test_y, pred_y))\n",
    "print(\"Precision, Recall, Fscore:\",precision_recall_fscore_support(test_y, pred_y, average='weighted'))\n",
    "print(confusion_matrix(test_y, pred_y))\n",
    "print(classification_report(test_y,pred_y))\n",
    "print(\"train time:\", stop_train-start_train)\n",
    "print(\"test time:\", stop_test-start_test)\n",
    "\n",
    "print('Parameters currently in use:\\n')\n",
    "pprint(clf.get_params())\n",
    "\n",
    "plot_confusion_matrix(clf, test_x,test_y, values_format='d')\n",
    "plt.show()"
   ]
  }
 ],
 "metadata": {
  "kernelspec": {
   "display_name": "Python 3",
   "language": "python",
   "name": "python3"
  },
  "language_info": {
   "codemirror_mode": {
    "name": "ipython",
    "version": 3
   },
   "file_extension": ".py",
   "mimetype": "text/x-python",
   "name": "python",
   "nbconvert_exporter": "python",
   "pygments_lexer": "ipython3",
   "version": "3.8.8"
  }
 },
 "nbformat": 4,
 "nbformat_minor": 5
}
